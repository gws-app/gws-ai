{
 "cells": [
  {
   "cell_type": "code",
   "execution_count": 1,
   "id": "6e3a2d53-b127-407a-8c68-45d7567d00b7",
   "metadata": {},
   "outputs": [],
   "source": [
    "import pandas as pd"
   ]
  },
  {
   "cell_type": "code",
   "execution_count": 2,
   "id": "6d9d66db-f747-4c2c-866d-85a28cdae3ed",
   "metadata": {},
   "outputs": [],
   "source": [
    "df1 = pd.read_csv('combined.csv')"
   ]
  },
  {
   "cell_type": "code",
   "execution_count": 3,
   "id": "194ee731-f5d5-4a88-aed3-139e70727c18",
   "metadata": {},
   "outputs": [],
   "source": [
    "df2 = pd.read_csv('Daylio_Abid.csv')"
   ]
  },
  {
   "cell_type": "code",
   "execution_count": 4,
   "id": "5f3208a3-2be5-42b1-9992-691c116d05e9",
   "metadata": {},
   "outputs": [],
   "source": [
    "dataframes = []\n",
    "\n",
    "dataframes.append(df1)"
   ]
  },
  {
   "cell_type": "code",
   "execution_count": 5,
   "id": "98013784-cf54-4a42-8313-4c01a8a370f6",
   "metadata": {},
   "outputs": [],
   "source": [
    "dataframes.append(df2)"
   ]
  },
  {
   "cell_type": "code",
   "execution_count": 6,
   "id": "02692c54-ebfc-4cd6-a264-fa57f0f9ac80",
   "metadata": {},
   "outputs": [
    {
     "data": {
      "text/plain": [
       "[      full_date         date    weekday      time   mood  \\\n",
       " 0    2024-12-08   December 8     Sunday     13:40    meh   \n",
       " 1    2024-12-07   December 7   Saturday     07:00    meh   \n",
       " 2    2024-12-06   December 6     Friday     07:00    meh   \n",
       " 3    2024-12-05   December 5   Thursday     07:00   good   \n",
       " 4    2024-12-04   December 4  Wednesday     07:00    meh   \n",
       " ..          ...          ...        ...       ...    ...   \n",
       " 202  2023-12-02   December 2   Saturday   6:03 PM  awful   \n",
       " 203  2023-11-28  November 28    Tuesday   7:02 AM    bad   \n",
       " 204  2023-11-17  November 17     Friday   7:00 AM  awful   \n",
       " 205  2023-11-15  November 15  Wednesday   9:00 PM  awful   \n",
       " 206  2023-11-14  November 14    Tuesday  12:01 PM    meh   \n",
       " \n",
       "                                             activities  note_title note  \n",
       " 0                                               unsure         NaN  NaN  \n",
       " 1    unsure | stressed | sad | desperate | bad slee...         NaN  NaN  \n",
       " 2                             unsure | bored | anxious         NaN  NaN  \n",
       " 3                                                  NaN         NaN  NaN  \n",
       " 4            unsure | bad sleep | gaming | eat healthy         NaN  NaN  \n",
       " ..                                                 ...         ...  ...  \n",
       " 202  happy | excited | grateful | relaxed | content...         NaN  NaN  \n",
       " 203  excited | tired | unsure | bored | anxious | a...         NaN  NaN  \n",
       " 204  anxious | angry | stressed | sad | desperate |...         NaN  NaN  \n",
       " 205  tired | anxious | stressed | sad | bad sleep |...         NaN  NaN  \n",
       " 206  tired | unsure | bored | anxious | stressed | ...         NaN  NaN  \n",
       " \n",
       " [207 rows x 8 columns],\n",
       "       full_date    date    weekday      time   sub_mood  \\\n",
       " 0    16/04/2021  Apr-16     Friday   8:00 pm       yolo   \n",
       " 1    15/04/2021  Apr-15   Thursday   2:37 am   focused    \n",
       " 2    14/04/2021  Apr-14  Wednesday   2:39 am  confused    \n",
       " 3    13/04/2021  Apr-13    Tuesday   2:38 am  wondering   \n",
       " 4    12/04/2021  Apr-12     Monday   9:52 pm      angry   \n",
       " ..          ...     ...        ...       ...        ...   \n",
       " 935  04/02/2018  Feb-04     Sunday   8:19 pm       yolo   \n",
       " 936  04/02/2018  Feb-04     Sunday  11:23 am        meh   \n",
       " 937  04/02/2018  Feb-04     Sunday   6:34 am   blessed    \n",
       " 938  03/02/2018  Feb-03   Saturday   7:52 pm      angry   \n",
       " 939  03/02/2018  Feb-03   Saturday   3:12 pm        meh   \n",
       " \n",
       "                                             activities    mood  \n",
       " 0    reading | Art | prayer | fasting  | walk | med...    Good  \n",
       " 1    reading | learning  | Art | prayer | fasting  ...    Good  \n",
       " 2    reading | learning  | prayer | fasting  | Qura...  Normal  \n",
       " 3    reading | learning  | Art | prayer | fasting  ...  Normal  \n",
       " 4    reading | learning  | fasting  | walk | medita...   Awful  \n",
       " ..                                                 ...     ...  \n",
       " 935  Write dairy  | walk | meditation  | Audio book...    Good  \n",
       " 936                  meditation  | youtube | research   Normal  \n",
       " 937              prayer | good meal | youtube | movies    Good  \n",
       " 938      Write dairy  | Dota 2 | streaming  | shopping   Awful  \n",
       " 939  walk | meditation  | Dota 2 | Audio books  | s...  Normal  \n",
       " \n",
       " [940 rows x 7 columns]]"
      ]
     },
     "execution_count": 6,
     "metadata": {},
     "output_type": "execute_result"
    }
   ],
   "source": [
    "dataframes"
   ]
  },
  {
   "cell_type": "code",
   "execution_count": 7,
   "id": "eaf59fe6-ea04-4220-b8d6-f348f7892495",
   "metadata": {},
   "outputs": [
    {
     "name": "stdout",
     "output_type": "stream",
     "text": [
      "File berhasil digabungkan dan disimpan sebagai 'combined.csv'.\n"
     ]
    }
   ],
   "source": [
    "if dataframes:\n",
    "    combined_df = pd.concat(dataframes, ignore_index=True)\n",
    "else:\n",
    "    print(\"Tidak ada file yang digabungkan.\")"
   ]
  },
  {
   "cell_type": "code",
   "execution_count": 10,
   "id": "81f3fc6e-b544-4e6d-8593-747a5f0de227",
   "metadata": {},
   "outputs": [],
   "source": [
    "combined_df = combined_df[['mood','activities']]"
   ]
  },
  {
   "cell_type": "code",
   "execution_count": 12,
   "id": "a325ccf8-8bf1-460e-b62a-de685339b174",
   "metadata": {},
   "outputs": [],
   "source": [
    "combined_df = combined_df.dropna()"
   ]
  },
  {
   "cell_type": "code",
   "execution_count": 13,
   "id": "df9864e9-d806-43b0-aee1-5201961da4e5",
   "metadata": {},
   "outputs": [
    {
     "data": {
      "text/html": [
       "<div>\n",
       "<style scoped>\n",
       "    .dataframe tbody tr th:only-of-type {\n",
       "        vertical-align: middle;\n",
       "    }\n",
       "\n",
       "    .dataframe tbody tr th {\n",
       "        vertical-align: top;\n",
       "    }\n",
       "\n",
       "    .dataframe thead th {\n",
       "        text-align: right;\n",
       "    }\n",
       "</style>\n",
       "<table border=\"1\" class=\"dataframe\">\n",
       "  <thead>\n",
       "    <tr style=\"text-align: right;\">\n",
       "      <th></th>\n",
       "      <th>mood</th>\n",
       "      <th>activities</th>\n",
       "    </tr>\n",
       "  </thead>\n",
       "  <tbody>\n",
       "    <tr>\n",
       "      <th>0</th>\n",
       "      <td>meh</td>\n",
       "      <td>unsure</td>\n",
       "    </tr>\n",
       "    <tr>\n",
       "      <th>1</th>\n",
       "      <td>meh</td>\n",
       "      <td>unsure | stressed | sad | desperate | bad slee...</td>\n",
       "    </tr>\n",
       "    <tr>\n",
       "      <th>2</th>\n",
       "      <td>meh</td>\n",
       "      <td>unsure | bored | anxious</td>\n",
       "    </tr>\n",
       "    <tr>\n",
       "      <th>4</th>\n",
       "      <td>meh</td>\n",
       "      <td>unsure | bad sleep | gaming | eat healthy</td>\n",
       "    </tr>\n",
       "    <tr>\n",
       "      <th>5</th>\n",
       "      <td>bad</td>\n",
       "      <td>unsure | bad sleep | gaming | eat healthy | dr...</td>\n",
       "    </tr>\n",
       "    <tr>\n",
       "      <th>...</th>\n",
       "      <td>...</td>\n",
       "      <td>...</td>\n",
       "    </tr>\n",
       "    <tr>\n",
       "      <th>1142</th>\n",
       "      <td>Good</td>\n",
       "      <td>Write dairy  | walk | meditation  | Audio book...</td>\n",
       "    </tr>\n",
       "    <tr>\n",
       "      <th>1143</th>\n",
       "      <td>Normal</td>\n",
       "      <td>meditation  | youtube | research</td>\n",
       "    </tr>\n",
       "    <tr>\n",
       "      <th>1144</th>\n",
       "      <td>Good</td>\n",
       "      <td>prayer | good meal | youtube | movies</td>\n",
       "    </tr>\n",
       "    <tr>\n",
       "      <th>1145</th>\n",
       "      <td>Awful</td>\n",
       "      <td>Write dairy  | Dota 2 | streaming  | shopping</td>\n",
       "    </tr>\n",
       "    <tr>\n",
       "      <th>1146</th>\n",
       "      <td>Normal</td>\n",
       "      <td>walk | meditation  | Dota 2 | Audio books  | s...</td>\n",
       "    </tr>\n",
       "  </tbody>\n",
       "</table>\n",
       "<p>999 rows × 2 columns</p>\n",
       "</div>"
      ],
      "text/plain": [
       "        mood                                         activities\n",
       "0        meh                                             unsure\n",
       "1        meh  unsure | stressed | sad | desperate | bad slee...\n",
       "2        meh                           unsure | bored | anxious\n",
       "4        meh          unsure | bad sleep | gaming | eat healthy\n",
       "5        bad  unsure | bad sleep | gaming | eat healthy | dr...\n",
       "...      ...                                                ...\n",
       "1142    Good  Write dairy  | walk | meditation  | Audio book...\n",
       "1143  Normal                  meditation  | youtube | research \n",
       "1144    Good              prayer | good meal | youtube | movies\n",
       "1145   Awful      Write dairy  | Dota 2 | streaming  | shopping\n",
       "1146  Normal  walk | meditation  | Dota 2 | Audio books  | s...\n",
       "\n",
       "[999 rows x 2 columns]"
      ]
     },
     "execution_count": 13,
     "metadata": {},
     "output_type": "execute_result"
    }
   ],
   "source": [
    "combined_df"
   ]
  },
  {
   "cell_type": "code",
   "execution_count": 15,
   "id": "0968834c-a9fd-409c-8059-d95541ee2d70",
   "metadata": {},
   "outputs": [
    {
     "data": {
      "text/plain": [
       "array(['meh', 'bad', 'good', 'awful', 'keren', 'buruk', 'baik',\n",
       "       'sangat buruk', 'biasa', 'rad', 'Good', 'Normal', 'Awful',\n",
       "       'Amazing', 'Bad'], dtype=object)"
      ]
     },
     "execution_count": 15,
     "metadata": {},
     "output_type": "execute_result"
    }
   ],
   "source": [
    "combined_df['mood'].unique()"
   ]
  },
  {
   "cell_type": "code",
   "execution_count": 18,
   "id": "5f812bed-5593-40dd-8349-76766cb1cd81",
   "metadata": {},
   "outputs": [],
   "source": [
    "combined_df = combined_df[combined_df['mood'].isin(['good', 'baik','keren','Good','Amazing'])]"
   ]
  },
  {
   "cell_type": "code",
   "execution_count": 19,
   "id": "f69cf4e5-104e-4b94-9956-44b708b1f37b",
   "metadata": {},
   "outputs": [
    {
     "data": {
      "text/html": [
       "<div>\n",
       "<style scoped>\n",
       "    .dataframe tbody tr th:only-of-type {\n",
       "        vertical-align: middle;\n",
       "    }\n",
       "\n",
       "    .dataframe tbody tr th {\n",
       "        vertical-align: top;\n",
       "    }\n",
       "\n",
       "    .dataframe thead th {\n",
       "        text-align: right;\n",
       "    }\n",
       "</style>\n",
       "<table border=\"1\" class=\"dataframe\">\n",
       "  <thead>\n",
       "    <tr style=\"text-align: right;\">\n",
       "      <th></th>\n",
       "      <th>mood</th>\n",
       "      <th>activities</th>\n",
       "    </tr>\n",
       "  </thead>\n",
       "  <tbody>\n",
       "    <tr>\n",
       "      <th>7</th>\n",
       "      <td>good</td>\n",
       "      <td>unsure | bored | bad sleep | movies | gaming |...</td>\n",
       "    </tr>\n",
       "    <tr>\n",
       "      <th>8</th>\n",
       "      <td>good</td>\n",
       "      <td>happy | excited | bad sleep</td>\n",
       "    </tr>\n",
       "    <tr>\n",
       "      <th>14</th>\n",
       "      <td>keren</td>\n",
       "      <td>keluarga | bersih-bersih</td>\n",
       "    </tr>\n",
       "    <tr>\n",
       "      <th>15</th>\n",
       "      <td>keren</td>\n",
       "      <td>keluarga | teman | film | game | coding</td>\n",
       "    </tr>\n",
       "    <tr>\n",
       "      <th>17</th>\n",
       "      <td>baik</td>\n",
       "      <td>keluarga | film | game | bersih-bersih | coding</td>\n",
       "    </tr>\n",
       "    <tr>\n",
       "      <th>...</th>\n",
       "      <td>...</td>\n",
       "      <td>...</td>\n",
       "    </tr>\n",
       "    <tr>\n",
       "      <th>1134</th>\n",
       "      <td>Good</td>\n",
       "      <td>Dota 2 | Watching series  | youtube | travel |...</td>\n",
       "    </tr>\n",
       "    <tr>\n",
       "      <th>1140</th>\n",
       "      <td>Amazing</td>\n",
       "      <td>reading | shower | good meal | youtube | new t...</td>\n",
       "    </tr>\n",
       "    <tr>\n",
       "      <th>1141</th>\n",
       "      <td>Good</td>\n",
       "      <td>fasting  | walk | meditation  | youtube</td>\n",
       "    </tr>\n",
       "    <tr>\n",
       "      <th>1142</th>\n",
       "      <td>Good</td>\n",
       "      <td>Write dairy  | walk | meditation  | Audio book...</td>\n",
       "    </tr>\n",
       "    <tr>\n",
       "      <th>1144</th>\n",
       "      <td>Good</td>\n",
       "      <td>prayer | good meal | youtube | movies</td>\n",
       "    </tr>\n",
       "  </tbody>\n",
       "</table>\n",
       "<p>666 rows × 2 columns</p>\n",
       "</div>"
      ],
      "text/plain": [
       "         mood                                         activities\n",
       "7        good  unsure | bored | bad sleep | movies | gaming |...\n",
       "8        good                        happy | excited | bad sleep\n",
       "14      keren                           keluarga | bersih-bersih\n",
       "15      keren            keluarga | teman | film | game | coding\n",
       "17       baik    keluarga | film | game | bersih-bersih | coding\n",
       "...       ...                                                ...\n",
       "1134     Good  Dota 2 | Watching series  | youtube | travel |...\n",
       "1140  Amazing  reading | shower | good meal | youtube | new t...\n",
       "1141     Good            fasting  | walk | meditation  | youtube\n",
       "1142     Good  Write dairy  | walk | meditation  | Audio book...\n",
       "1144     Good              prayer | good meal | youtube | movies\n",
       "\n",
       "[666 rows x 2 columns]"
      ]
     },
     "execution_count": 19,
     "metadata": {},
     "output_type": "execute_result"
    }
   ],
   "source": [
    "combined_df"
   ]
  },
  {
   "cell_type": "code",
   "execution_count": 21,
   "id": "18f89b01-9d47-474a-90f5-0399b7c3e3e6",
   "metadata": {},
   "outputs": [
    {
     "name": "stdout",
     "output_type": "stream",
     "text": [
      "File berhasil digabungkan dan disimpan sebagai 'combined-final.csv'.\n"
     ]
    }
   ],
   "source": [
    "try:\n",
    "    combined_df.to_csv(\"combined-final.csv\", index=False)\n",
    "    print(\"File berhasil digabungkan dan disimpan sebagai 'combined-final.csv'.\")\n",
    "except:\n",
    "    print(\"ada yang salah\")"
   ]
  }
 ],
 "metadata": {
  "kernelspec": {
   "display_name": "Python 3 (ipykernel)",
   "language": "python",
   "name": "python3"
  },
  "language_info": {
   "codemirror_mode": {
    "name": "ipython",
    "version": 3
   },
   "file_extension": ".py",
   "mimetype": "text/x-python",
   "name": "python",
   "nbconvert_exporter": "python",
   "pygments_lexer": "ipython3",
   "version": "3.12.7"
  }
 },
 "nbformat": 4,
 "nbformat_minor": 5
}
