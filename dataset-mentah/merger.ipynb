{
 "cells": [
  {
   "cell_type": "code",
   "execution_count": 1,
   "id": "6e3a2d53-b127-407a-8c68-45d7567d00b7",
   "metadata": {},
   "outputs": [],
   "source": [
    "import pandas as pd"
   ]
  },
  {
   "cell_type": "code",
   "execution_count": 2,
   "id": "6d9d66db-f747-4c2c-866d-85a28cdae3ed",
   "metadata": {},
   "outputs": [],
   "source": [
    "df1 = pd.read_csv('filtered_data.csv')"
   ]
  },
  {
   "cell_type": "code",
   "execution_count": 3,
   "id": "194ee731-f5d5-4a88-aed3-139e70727c18",
   "metadata": {},
   "outputs": [],
   "source": [
    "df2 = pd.read_csv('Daylio_Abid.csv')"
   ]
  },
  {
   "cell_type": "code",
   "execution_count": 4,
   "id": "5f3208a3-2be5-42b1-9992-691c116d05e9",
   "metadata": {},
   "outputs": [],
   "source": [
    "dataframes = []\n",
    "\n",
    "dataframes.append(df1)"
   ]
  },
  {
   "cell_type": "code",
   "execution_count": 5,
   "id": "98013784-cf54-4a42-8313-4c01a8a370f6",
   "metadata": {},
   "outputs": [],
   "source": [
    "dataframes.append(df2)"
   ]
  },
  {
   "cell_type": "code",
   "execution_count": 6,
   "id": "02692c54-ebfc-4cd6-a264-fa57f0f9ac80",
   "metadata": {},
   "outputs": [
    {
     "data": {
      "text/plain": [
       "[     mood                                         activities\n",
       " 0    good  unsure | bored | bad sleep | movies | gaming |...\n",
       " 1    good                        happy | excited | bad sleep\n",
       " 2   keren                           keluarga | bersih-bersih\n",
       " 3   keren            keluarga | teman | film | game | coding\n",
       " 4    baik    keluarga | film | game | bersih-bersih | coding\n",
       " 5    baik           keluarga | film | bersih-bersih | coding\n",
       " 6   keren                    teman | membaca | game | coding\n",
       " 7    baik                      makan sehat | santai | coding\n",
       " 8   keren                             santai | game | coding\n",
       " 9    baik  bersyukur | cemas | tidur lumayan nenyak | min...\n",
       " 10   baik  bersyukur | santai | tidak yakin | cemas | tid...\n",
       " 11   baik  senang | bersemangat | bersyukur | puas | tidu...\n",
       " 12   baik  bersyukur | cemas | tidur lumayan nenyak | min...\n",
       " 13   baik  bersemangat | puas | lelah | cemas | tidur lum...\n",
       " 14   baik  bersemangat | bersyukur | tidur lumayan nenyak...\n",
       " 15   baik  bersemangat | tidur lumayan nenyak | minum air...\n",
       " 16  keren                    teman | santai | membaca | game\n",
       " 17  keren  keluarga | teman | kencan | olahraga | santai ...\n",
       " 18   baik         tidur lebih awal | santai | game | belanja\n",
       " 19  keren  keluarga | tidur lebih awal | makan sehat | sa...\n",
       " 20   baik           teman | tidur lebih awal | santai | game\n",
       " 21   baik                olahraga | olahraga | bersih-bersih\n",
       " 22  keren  tidur lebih awal | makan sehat | membaca | gam...\n",
       " 23   baik  tidur lebih awal | game | bersih-bersih | belanja\n",
       " 24   baik                     tidur lebih awal | film | game\n",
       " 25  keren  olahraga | tidur lebih awal | membaca | game |...\n",
       " 26   baik                      olahraga | makan sehat | film\n",
       " 27   baik            tidur lebih awal | makan sehat | santai\n",
       " 28   baik  keluarga | olahraga | makan sehat | membaca | ...\n",
       " 29  keren             keluarga | olahraga | tidur lebih awal\n",
       " 30   good                                            friends\n",
       " 31   good                                           manicure\n",
       " 32   good                                            laundry,\n",
       "       full_date    date    weekday      time   sub_mood  \\\n",
       " 0    16/04/2021  Apr-16     Friday   8:00 pm       yolo   \n",
       " 1    15/04/2021  Apr-15   Thursday   2:37 am   focused    \n",
       " 2    14/04/2021  Apr-14  Wednesday   2:39 am  confused    \n",
       " 3    13/04/2021  Apr-13    Tuesday   2:38 am  wondering   \n",
       " 4    12/04/2021  Apr-12     Monday   9:52 pm      angry   \n",
       " ..          ...     ...        ...       ...        ...   \n",
       " 935  04/02/2018  Feb-04     Sunday   8:19 pm       yolo   \n",
       " 936  04/02/2018  Feb-04     Sunday  11:23 am        meh   \n",
       " 937  04/02/2018  Feb-04     Sunday   6:34 am   blessed    \n",
       " 938  03/02/2018  Feb-03   Saturday   7:52 pm      angry   \n",
       " 939  03/02/2018  Feb-03   Saturday   3:12 pm        meh   \n",
       " \n",
       "                                             activities    mood  \n",
       " 0    reading | Art | prayer | fasting  | walk | med...    Good  \n",
       " 1    reading | learning  | Art | prayer | fasting  ...    Good  \n",
       " 2    reading | learning  | prayer | fasting  | Qura...  Normal  \n",
       " 3    reading | learning  | Art | prayer | fasting  ...  Normal  \n",
       " 4    reading | learning  | fasting  | walk | medita...   Awful  \n",
       " ..                                                 ...     ...  \n",
       " 935  Write dairy  | walk | meditation  | Audio book...    Good  \n",
       " 936                  meditation  | youtube | research   Normal  \n",
       " 937              prayer | good meal | youtube | movies    Good  \n",
       " 938      Write dairy  | Dota 2 | streaming  | shopping   Awful  \n",
       " 939  walk | meditation  | Dota 2 | Audio books  | s...  Normal  \n",
       " \n",
       " [940 rows x 7 columns]]"
      ]
     },
     "execution_count": 6,
     "metadata": {},
     "output_type": "execute_result"
    }
   ],
   "source": [
    "dataframes"
   ]
  },
  {
   "cell_type": "code",
   "execution_count": 7,
   "id": "eaf59fe6-ea04-4220-b8d6-f348f7892495",
   "metadata": {},
   "outputs": [],
   "source": [
    "if dataframes:\n",
    "    combined_df = pd.concat(dataframes, ignore_index=True)\n",
    "else:\n",
    "    print(\"Tidak ada file yang digabungkan.\")"
   ]
  },
  {
   "cell_type": "code",
   "execution_count": 8,
   "id": "81f3fc6e-b544-4e6d-8593-747a5f0de227",
   "metadata": {},
   "outputs": [],
   "source": [
    "combined_df = combined_df[['mood','activities']]"
   ]
  },
  {
   "cell_type": "code",
   "execution_count": 9,
   "id": "a325ccf8-8bf1-460e-b62a-de685339b174",
   "metadata": {},
   "outputs": [],
   "source": [
    "combined_df = combined_df.dropna()"
   ]
  },
  {
   "cell_type": "code",
   "execution_count": 10,
   "id": "df9864e9-d806-43b0-aee1-5201961da4e5",
   "metadata": {},
   "outputs": [
    {
     "data": {
      "text/html": [
       "<div>\n",
       "<style scoped>\n",
       "    .dataframe tbody tr th:only-of-type {\n",
       "        vertical-align: middle;\n",
       "    }\n",
       "\n",
       "    .dataframe tbody tr th {\n",
       "        vertical-align: top;\n",
       "    }\n",
       "\n",
       "    .dataframe thead th {\n",
       "        text-align: right;\n",
       "    }\n",
       "</style>\n",
       "<table border=\"1\" class=\"dataframe\">\n",
       "  <thead>\n",
       "    <tr style=\"text-align: right;\">\n",
       "      <th></th>\n",
       "      <th>mood</th>\n",
       "      <th>activities</th>\n",
       "    </tr>\n",
       "  </thead>\n",
       "  <tbody>\n",
       "    <tr>\n",
       "      <th>0</th>\n",
       "      <td>good</td>\n",
       "      <td>unsure | bored | bad sleep | movies | gaming |...</td>\n",
       "    </tr>\n",
       "    <tr>\n",
       "      <th>1</th>\n",
       "      <td>good</td>\n",
       "      <td>happy | excited | bad sleep</td>\n",
       "    </tr>\n",
       "    <tr>\n",
       "      <th>2</th>\n",
       "      <td>keren</td>\n",
       "      <td>keluarga | bersih-bersih</td>\n",
       "    </tr>\n",
       "    <tr>\n",
       "      <th>3</th>\n",
       "      <td>keren</td>\n",
       "      <td>keluarga | teman | film | game | coding</td>\n",
       "    </tr>\n",
       "    <tr>\n",
       "      <th>4</th>\n",
       "      <td>baik</td>\n",
       "      <td>keluarga | film | game | bersih-bersih | coding</td>\n",
       "    </tr>\n",
       "    <tr>\n",
       "      <th>...</th>\n",
       "      <td>...</td>\n",
       "      <td>...</td>\n",
       "    </tr>\n",
       "    <tr>\n",
       "      <th>968</th>\n",
       "      <td>Good</td>\n",
       "      <td>Write dairy  | walk | meditation  | Audio book...</td>\n",
       "    </tr>\n",
       "    <tr>\n",
       "      <th>969</th>\n",
       "      <td>Normal</td>\n",
       "      <td>meditation  | youtube | research</td>\n",
       "    </tr>\n",
       "    <tr>\n",
       "      <th>970</th>\n",
       "      <td>Good</td>\n",
       "      <td>prayer | good meal | youtube | movies</td>\n",
       "    </tr>\n",
       "    <tr>\n",
       "      <th>971</th>\n",
       "      <td>Awful</td>\n",
       "      <td>Write dairy  | Dota 2 | streaming  | shopping</td>\n",
       "    </tr>\n",
       "    <tr>\n",
       "      <th>972</th>\n",
       "      <td>Normal</td>\n",
       "      <td>walk | meditation  | Dota 2 | Audio books  | s...</td>\n",
       "    </tr>\n",
       "  </tbody>\n",
       "</table>\n",
       "<p>926 rows × 2 columns</p>\n",
       "</div>"
      ],
      "text/plain": [
       "       mood                                         activities\n",
       "0      good  unsure | bored | bad sleep | movies | gaming |...\n",
       "1      good                        happy | excited | bad sleep\n",
       "2     keren                           keluarga | bersih-bersih\n",
       "3     keren            keluarga | teman | film | game | coding\n",
       "4      baik    keluarga | film | game | bersih-bersih | coding\n",
       "..      ...                                                ...\n",
       "968    Good  Write dairy  | walk | meditation  | Audio book...\n",
       "969  Normal                  meditation  | youtube | research \n",
       "970    Good              prayer | good meal | youtube | movies\n",
       "971   Awful      Write dairy  | Dota 2 | streaming  | shopping\n",
       "972  Normal  walk | meditation  | Dota 2 | Audio books  | s...\n",
       "\n",
       "[926 rows x 2 columns]"
      ]
     },
     "execution_count": 10,
     "metadata": {},
     "output_type": "execute_result"
    }
   ],
   "source": [
    "combined_df"
   ]
  },
  {
   "cell_type": "code",
   "execution_count": 11,
   "id": "0968834c-a9fd-409c-8059-d95541ee2d70",
   "metadata": {},
   "outputs": [
    {
     "data": {
      "text/plain": [
       "array(['good', 'keren', 'baik', 'Good', 'Normal', 'Awful', 'Amazing',\n",
       "       'Bad'], dtype=object)"
      ]
     },
     "execution_count": 11,
     "metadata": {},
     "output_type": "execute_result"
    }
   ],
   "source": [
    "combined_df['mood'].unique()"
   ]
  },
  {
   "cell_type": "code",
   "execution_count": 12,
   "id": "5f812bed-5593-40dd-8349-76766cb1cd81",
   "metadata": {},
   "outputs": [],
   "source": [
    "combined_df = combined_df[combined_df['mood'].isin(['good', 'baik','keren','Good','Amazing'])]"
   ]
  },
  {
   "cell_type": "code",
   "execution_count": 15,
   "id": "f69cf4e5-104e-4b94-9956-44b708b1f37b",
   "metadata": {},
   "outputs": [],
   "source": [
    "combined_df = combined_df.map(lambda x: x.lower() if isinstance(x, str) else x)"
   ]
  },
  {
   "cell_type": "code",
   "execution_count": 16,
   "id": "18f89b01-9d47-474a-90f5-0399b7c3e3e6",
   "metadata": {},
   "outputs": [
    {
     "name": "stdout",
     "output_type": "stream",
     "text": [
      "File berhasil digabungkan dan disimpan sebagai 'combined-final.csv'.\n"
     ]
    }
   ],
   "source": [
    "try:\n",
    "    combined_df.to_csv(\"combined-final.csv\", index=False)\n",
    "    print(\"File berhasil digabungkan dan disimpan sebagai 'combined-final.csv'.\")\n",
    "except:\n",
    "    print(\"ada yang salah\")"
   ]
  }
 ],
 "metadata": {
  "kernelspec": {
   "display_name": "Python 3 (ipykernel)",
   "language": "python",
   "name": "python3"
  },
  "language_info": {
   "codemirror_mode": {
    "name": "ipython",
    "version": 3
   },
   "file_extension": ".py",
   "mimetype": "text/x-python",
   "name": "python",
   "nbconvert_exporter": "python",
   "pygments_lexer": "ipython3",
   "version": "3.12.7"
  }
 },
 "nbformat": 4,
 "nbformat_minor": 5
}
